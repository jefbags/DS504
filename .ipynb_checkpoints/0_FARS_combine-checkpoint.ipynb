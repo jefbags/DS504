{
 "cells": [
  {
   "cell_type": "code",
   "execution_count": 16,
   "metadata": {},
   "outputs": [],
   "source": [
    "import pandas as pd\n",
    "import numpy as np\n",
    "import os\n",
    "import glob\n",
    "import shutil"
   ]
  },
  {
   "cell_type": "code",
   "execution_count": 15,
   "metadata": {},
   "outputs": [
    {
     "name": "stdout",
     "output_type": "stream",
     "text": [
      "Using glob.glob()\n",
      "{'data/CRSS/data/CRSS2016CSV/PERSON.csv': []}\n",
      "{'data/CRSS/data/CRSS2016CSV/PBTYPE.csv': []}\n",
      "{'data/CRSS/data/CRSS2016CSV/PARKWORK.csv': []}\n",
      "{'data/CRSS/data/CRSS2016CSV/VSOE.csv': []}\n",
      "{'data/CRSS/data/CRSS2016CSV/PER_AUX.csv': []}\n",
      "{'data/CRSS/data/CRSS2016CSV/NMCRASH.csv': []}\n",
      "{'data/CRSS/data/CRSS2016CSV/DISTRACT.csv': []}\n",
      "{'data/CRSS/data/CRSS2016CSV/VISION.csv': []}\n",
      "{'data/CRSS/data/CRSS2016CSV/VEH_AUX.csv': []}\n",
      "{'data/CRSS/data/CRSS2016CSV/FACTOR.csv': []}\n",
      "{'data/CRSS/data/CRSS2016CSV/VEHICLE.csv': []}\n",
      "{'data/CRSS/data/CRSS2016CSV/DAMAGE.csv': []}\n",
      "{'data/CRSS/data/CRSS2016CSV/DRIMPAIR.csv': []}\n",
      "{'data/CRSS/data/CRSS2016CSV/NMIMPAIR.csv': []}\n",
      "{'data/CRSS/data/CRSS2016CSV/VIOLATN.csv': []}\n",
      "{'data/CRSS/data/CRSS2016CSV/CEVENT.csv': []}\n",
      "{'data/CRSS/data/CRSS2016CSV/NMPRIOR.csv': []}\n",
      "{'data/CRSS/data/CRSS2016CSV/ACCIDENT.csv': []}\n",
      "{'data/CRSS/data/CRSS2016CSV/VEVENT.csv': []}\n",
      "{'data/CRSS/data/CRSS2016CSV/MANEUVER.csv': []}\n",
      "{'data/CRSS/data/CRSS2016CSV/ACC_AUX.csv': []}\n",
      "{'data/CRSS/data/CRSS2016CSV/SAFETYEQ.csv': []}\n",
      "{'data/CRSS/data/CRSS2016CSV/VINDECODE.csv': []}\n",
      "{'data/CRSS/data/CRSS2017CSV/PERSON.csv': []}\n",
      "{'data/CRSS/data/CRSS2017CSV/PBTYPE.csv': []}\n",
      "{'data/CRSS/data/CRSS2017CSV/PARKWORK.csv': []}\n",
      "{'data/CRSS/data/CRSS2017CSV/VSOE.csv': []}\n",
      "{'data/CRSS/data/CRSS2017CSV/PER_AUX.csv': []}\n",
      "{'data/CRSS/data/CRSS2017CSV/NMCRASH.csv': []}\n",
      "{'data/CRSS/data/CRSS2017CSV/DISTRACT.csv': []}\n",
      "{'data/CRSS/data/CRSS2017CSV/VISION.csv': []}\n",
      "{'data/CRSS/data/CRSS2017CSV/VEH_AUX.csv': []}\n",
      "{'data/CRSS/data/CRSS2017CSV/FACTOR.csv': []}\n",
      "{'data/CRSS/data/CRSS2017CSV/VEHICLE.csv': []}\n",
      "{'data/CRSS/data/CRSS2017CSV/DAMAGE.csv': []}\n",
      "{'data/CRSS/data/CRSS2017CSV/DRIMPAIR.csv': []}\n",
      "{'data/CRSS/data/CRSS2017CSV/NMIMPAIR.csv': []}\n",
      "{'data/CRSS/data/CRSS2017CSV/VIOLATN.csv': []}\n",
      "{'data/CRSS/data/CRSS2017CSV/CEVENT.csv': []}\n",
      "{'data/CRSS/data/CRSS2017CSV/NMPRIOR.csv': []}\n",
      "{'data/CRSS/data/CRSS2017CSV/ACCIDENT.csv': []}\n",
      "{'data/CRSS/data/CRSS2017CSV/VEVENT.csv': []}\n",
      "{'data/CRSS/data/CRSS2017CSV/MANEUVER.csv': []}\n",
      "{'data/CRSS/data/CRSS2017CSV/ACC_AUX.csv': []}\n",
      "{'data/CRSS/data/CRSS2017CSV/SAFETYEQ.csv': []}\n",
      "{'data/CRSS/data/CRSS2017CSV/VINDECODE.csv': []}\n",
      "{'data/CRSS/data/CRSS2018CSV/PERSON.csv': []}\n",
      "{'data/CRSS/data/CRSS2018CSV/PBTYPE.csv': []}\n",
      "{'data/CRSS/data/CRSS2018CSV/PARKWORK.csv': []}\n",
      "{'data/CRSS/data/CRSS2018CSV/VSOE.csv': []}\n",
      "{'data/CRSS/data/CRSS2018CSV/PER_AUX.csv': []}\n",
      "{'data/CRSS/data/CRSS2018CSV/NMCRASH.csv': []}\n",
      "{'data/CRSS/data/CRSS2018CSV/DISTRACT.csv': []}\n",
      "{'data/CRSS/data/CRSS2018CSV/VISION.csv': []}\n",
      "{'data/CRSS/data/CRSS2018CSV/VEH_AUX.csv': []}\n",
      "{'data/CRSS/data/CRSS2018CSV/FACTOR.csv': []}\n",
      "{'data/CRSS/data/CRSS2018CSV/VEHICLE.csv': []}\n",
      "{'data/CRSS/data/CRSS2018CSV/DAMAGE.csv': []}\n",
      "{'data/CRSS/data/CRSS2018CSV/DRIMPAIR.csv': []}\n",
      "{'data/CRSS/data/CRSS2018CSV/NMIMPAIR.csv': []}\n",
      "{'data/CRSS/data/CRSS2018CSV/VIOLATN.csv': []}\n",
      "{'data/CRSS/data/CRSS2018CSV/CEVENT.csv': []}\n",
      "{'data/CRSS/data/CRSS2018CSV/NMPRIOR.csv': []}\n",
      "{'data/CRSS/data/CRSS2018CSV/ACCIDENT.csv': []}\n",
      "{'data/CRSS/data/CRSS2018CSV/VEVENT.csv': []}\n",
      "{'data/CRSS/data/CRSS2018CSV/MANEUVER.csv': []}\n",
      "{'data/CRSS/data/CRSS2018CSV/ACC_AUX.csv': []}\n",
      "{'data/CRSS/data/CRSS2018CSV/SAFETYEQ.csv': []}\n"
     ]
    }
   ],
   "source": [
    "# Lists all the files ane creates a list for each\n",
    "# Come back to this...\n",
    "\n",
    "print(\"Using glob.glob()\") \n",
    "files = glob.glob('data/CRSS/data/**/*.csv',  \n",
    "                   recursive = True) \n",
    "for file in files:\n",
    "    my_list = {}\n",
    "    my_list[file] = []\n",
    "    print(my_list)\n",
    "    "
   ]
  },
  {
   "cell_type": "code",
   "execution_count": 18,
   "metadata": {},
   "outputs": [
    {
     "name": "stdout",
     "output_type": "stream",
     "text": [
      "/home/home/Desktop/DS504/data/CRSS/COMBINEDCRSS/PERSON\n",
      "/home/home/Desktop/DS504/data/CRSS/COMBINEDCRSS/PBTYPE\n",
      "/home/home/Desktop/DS504/data/CRSS/COMBINEDCRSS/PARKWORK\n",
      "/home/home/Desktop/DS504/data/CRSS/COMBINEDCRSS/VSOE\n",
      "/home/home/Desktop/DS504/data/CRSS/COMBINEDCRSS/PER_AUX\n",
      "/home/home/Desktop/DS504/data/CRSS/COMBINEDCRSS/NMCRASH\n",
      "/home/home/Desktop/DS504/data/CRSS/COMBINEDCRSS/DISTRACT\n",
      "/home/home/Desktop/DS504/data/CRSS/COMBINEDCRSS/VISION\n",
      "/home/home/Desktop/DS504/data/CRSS/COMBINEDCRSS/VEH_AUX\n",
      "/home/home/Desktop/DS504/data/CRSS/COMBINEDCRSS/FACTOR\n",
      "/home/home/Desktop/DS504/data/CRSS/COMBINEDCRSS/VEHICLE\n",
      "/home/home/Desktop/DS504/data/CRSS/COMBINEDCRSS/DAMAGE\n",
      "/home/home/Desktop/DS504/data/CRSS/COMBINEDCRSS/DRIMPAIR\n",
      "/home/home/Desktop/DS504/data/CRSS/COMBINEDCRSS/NMIMPAIR\n",
      "/home/home/Desktop/DS504/data/CRSS/COMBINEDCRSS/VIOLATN\n",
      "/home/home/Desktop/DS504/data/CRSS/COMBINEDCRSS/CEVENT\n",
      "/home/home/Desktop/DS504/data/CRSS/COMBINEDCRSS/NMPRIOR\n",
      "/home/home/Desktop/DS504/data/CRSS/COMBINEDCRSS/ACCIDENT\n",
      "/home/home/Desktop/DS504/data/CRSS/COMBINEDCRSS/VEVENT\n",
      "/home/home/Desktop/DS504/data/CRSS/COMBINEDCRSS/MANEUVER\n",
      "/home/home/Desktop/DS504/data/CRSS/COMBINEDCRSS/ACC_AUX\n",
      "/home/home/Desktop/DS504/data/CRSS/COMBINEDCRSS/SAFETYEQ\n",
      "/home/home/Desktop/DS504/data/CRSS/COMBINEDCRSS/VINDECODE\n"
     ]
    }
   ],
   "source": [
    "# This will create a folder for each filename in the combined dir\n",
    "\n",
    "dir=\"/home/home/Desktop/DS504/data/CRSS/COMBINEDCRSS/\"\n",
    "os.chdir(dir)\n",
    "for file in glob.glob(\"*.csv\"):\n",
    "    dst=dir+file.replace(\" \",\"_\").replace(\".csv\",\"\")\n",
    "    os.mkdir(dst)\n",
    "    print(dst)\n"
   ]
  },
  {
   "cell_type": "code",
   "execution_count": 29,
   "metadata": {},
   "outputs": [],
   "source": [
    "# The files all need to be in the same directory.  So, start by renaming them so there's no conflict\n",
    "# Do for all dirs/years\n",
    "\n",
    "dir = '/home/home/Desktop/DS504/data/CRSS/data/CRSS2018CSV/'\n",
    "for count, filename in enumerate(os.listdir(dir)):\n",
    "    #print (count)\n",
    "    #print(filename)\n",
    "    dst = \"2018_\" + filename\n",
    "    src = dir + filename\n",
    "    dst = dir + dst\n",
    "    \n",
    "    os.rename(src, dst)"
   ]
  },
  {
   "cell_type": "code",
   "execution_count": 35,
   "metadata": {},
   "outputs": [
    {
     "name": "stdout",
     "output_type": "stream",
     "text": [
      "2016_ACC_AUX.csv\n",
      "2016_VEVENT.csv\n",
      "2016_FACTOR.csv\n",
      "2016_PARKWORK.csv\n",
      "2016_CEVENT.csv\n",
      "2016_MANEUVER.csv\n",
      "2016_VSOE.csv\n",
      "2016_NMIMPAIR.csv\n",
      "2016_DAMAGE.csv\n",
      "2016_ACCIDENT.csv\n",
      "2016_NMPRIOR.csv\n",
      "2016_VEH_AUX.csv\n",
      "2016_PBTYPE.csv\n",
      "2016_PER_AUX.csv\n",
      "2016_VEHICLE.csv\n",
      "2016_DISTRACT.csv\n",
      "2016_NMCRASH.csv\n",
      "2016_VINDECODE.csv\n",
      "2016_DRIMPAIR.csv\n",
      "2016_VIOLATN.csv\n",
      "2016_VISION.csv\n",
      "2016_PERSON.csv\n",
      "2016_SAFETYEQ.csv\n"
     ]
    }
   ],
   "source": [
    "# Now we need to move or copy them all to the combined folder of the same name...\n",
    "\n",
    "dir = '/home/home/Desktop/DS504/data/CRSS/data/CRSS2016CSV/'\n",
    "os.chdir(dir)\n",
    "for file in glob.glob(\"*.csv\"):\n",
    "    print(file)\n",
    "    dstdir = '/home/home/Desktop/DS504/data/CRSS/COMBINEDCRSS/'\n",
    "    dstfolder = file.replace(\"2016_\",\"\").replace(\".csv\",\"\")\n",
    "    dst = dstdir+dstfolder\n",
    "    shutil.copy(file,dst)"
   ]
  },
  {
   "cell_type": "code",
   "execution_count": 36,
   "metadata": {},
   "outputs": [
    {
     "name": "stdout",
     "output_type": "stream",
     "text": [
      "2017_DRIMPAIR.csv\n",
      "2017_VSOE.csv\n",
      "2017_PARKWORK.csv\n",
      "2017_MANEUVER.csv\n",
      "2017_VINDECODE.csv\n",
      "2017_SAFETYEQ.csv\n",
      "2017_PBTYPE.csv\n",
      "2017_VIOLATN.csv\n",
      "2017_DAMAGE.csv\n",
      "2017_VEH_AUX.csv\n",
      "2017_FACTOR.csv\n",
      "2017_VEHICLE.csv\n",
      "2017_ACCIDENT.csv\n",
      "2017_PER_AUX.csv\n",
      "2017_DISTRACT.csv\n",
      "2017_VEVENT.csv\n",
      "2017_NMIMPAIR.csv\n",
      "2017_PERSON.csv\n",
      "2017_NMPRIOR.csv\n",
      "2017_VISION.csv\n",
      "2017_ACC_AUX.csv\n",
      "2017_NMCRASH.csv\n",
      "2017_CEVENT.csv\n"
     ]
    }
   ],
   "source": [
    "dir = '/home/home/Desktop/DS504/data/CRSS/data/CRSS2017CSV/'\n",
    "os.chdir(dir)\n",
    "for file in glob.glob(\"*.csv\"):\n",
    "    print(file)\n",
    "    dstdir = '/home/home/Desktop/DS504/data/CRSS/COMBINEDCRSS/'\n",
    "    dstfolder = file.replace(\"2017_\",\"\").replace(\".csv\",\"\")\n",
    "    dst = dstdir+dstfolder\n",
    "    shutil.copy(file,dst)\n"
   ]
  },
  {
   "cell_type": "code",
   "execution_count": 37,
   "metadata": {},
   "outputs": [
    {
     "name": "stdout",
     "output_type": "stream",
     "text": [
      "2018_NMCRASH.csv\n",
      "2018_NMIMPAIR.csv\n",
      "2018_PBTYPE.csv\n",
      "2018_ACC_AUX.csv\n",
      "2018_VEVENT.csv\n",
      "2018_CEVENT.csv\n",
      "2018_DRIMPAIR.csv\n",
      "2018_VIOLATN.csv\n",
      "2018_VSOE.csv\n",
      "2018_SAFETYEQ.csv\n",
      "2018_DISTRACT.csv\n",
      "2018_DAMAGE.csv\n",
      "2018_PARKWORK.csv\n",
      "2018_ACCIDENT.csv\n",
      "2018_PERSON.csv\n",
      "2018_VEH_AUX.csv\n",
      "2018_PER_AUX.csv\n",
      "2018_VISION.csv\n",
      "2018_NMPRIOR.csv\n",
      "2018_VEHICLE.csv\n",
      "2018_FACTOR.csv\n",
      "2018_MANEUVER.csv\n"
     ]
    }
   ],
   "source": [
    "dir = '/home/home/Desktop/DS504/data/CRSS/data/CRSS2018CSV/'\n",
    "os.chdir(dir)\n",
    "for file in glob.glob(\"*.csv\"):\n",
    "    print(file)\n",
    "    dstdir = '/home/home/Desktop/DS504/data/CRSS/COMBINEDCRSS/'\n",
    "    dstfolder = file.replace(\"2018_\",\"\").replace(\".csv\",\"\")\n",
    "    dst = dstdir+dstfolder\n",
    "    shutil.copy(file,dst)"
   ]
  },
  {
   "cell_type": "code",
   "execution_count": null,
   "metadata": {},
   "outputs": [],
   "source": []
  }
 ],
 "metadata": {
  "kernelspec": {
   "display_name": "my_venv",
   "language": "python",
   "name": "my_venv"
  },
  "language_info": {
   "codemirror_mode": {
    "name": "ipython",
    "version": 3
   },
   "file_extension": ".py",
   "mimetype": "text/x-python",
   "name": "python",
   "nbconvert_exporter": "python",
   "pygments_lexer": "ipython3",
   "version": "3.6.9"
  }
 },
 "nbformat": 4,
 "nbformat_minor": 4
}
