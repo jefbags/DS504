{
 "cells": [
  {
   "cell_type": "code",
   "execution_count": 3,
   "metadata": {},
   "outputs": [],
   "source": [
    "import pandas as pd\n",
    "import numpy as np\n",
    "import os\n",
    "import glob\n",
    "import shutil"
   ]
  },
  {
   "cell_type": "code",
   "execution_count": 1,
   "metadata": {},
   "outputs": [
    {
     "ename": "SyntaxError",
     "evalue": "invalid syntax (<ipython-input-1-f6f014a0fc3d>, line 12)",
     "output_type": "error",
     "traceback": [
      "\u001b[0;36m  File \u001b[0;32m\"<ipython-input-1-f6f014a0fc3d>\"\u001b[0;36m, line \u001b[0;32m12\u001b[0m\n\u001b[0;31m    print(my_list))))\u001b[0m\n\u001b[0m                  ^\u001b[0m\n\u001b[0;31mSyntaxError\u001b[0m\u001b[0;31m:\u001b[0m invalid syntax\n"
     ]
    }
   ],
   "source": [
    "# Lists all the files ane creates a list for each\n",
    "# Come back to this...\n",
    "\n",
    "# ************************ IGNORE *********************************\n",
    "\n",
    "print(\"Using glob.glob()\") \n",
    "files = glob.glob('data/CRSS/data/**/*.csv',  \n",
    "                   recursive = True) \n",
    "for file in files:\n",
    "    my_list = {}\n",
    "    my_list[file] = []\n",
    "    print(my_list))))\n",
    "    "
   ]
  },
  {
   "cell_type": "code",
   "execution_count": null,
   "metadata": {},
   "outputs": [],
   "source": []
  },
  {
   "cell_type": "code",
   "execution_count": 7,
   "metadata": {
    "scrolled": false
   },
   "outputs": [
    {
     "name": "stdout",
     "output_type": "stream",
     "text": [
      "/home/home/Desktop/DS504/data/CRSS/COMBINEDCRSS/DRIMPAIR\n",
      "/home/home/Desktop/DS504/data/CRSS/COMBINEDCRSS/NMCRASH\n",
      "/home/home/Desktop/DS504/data/CRSS/COMBINEDCRSS/VEH_AUX\n",
      "/home/home/Desktop/DS504/data/CRSS/COMBINEDCRSS/VIOLATN\n",
      "/home/home/Desktop/DS504/data/CRSS/COMBINEDCRSS/SAFETYEQ\n",
      "/home/home/Desktop/DS504/data/CRSS/COMBINEDCRSS/PARKWORK\n",
      "/home/home/Desktop/DS504/data/CRSS/COMBINEDCRSS/VEHICLE\n",
      "/home/home/Desktop/DS504/data/CRSS/COMBINEDCRSS/FACTOR\n",
      "/home/home/Desktop/DS504/data/CRSS/COMBINEDCRSS/VISION\n",
      "/home/home/Desktop/DS504/data/CRSS/COMBINEDCRSS/PERSON\n",
      "/home/home/Desktop/DS504/data/CRSS/COMBINEDCRSS/VSOE\n",
      "/home/home/Desktop/DS504/data/CRSS/COMBINEDCRSS/VINDECODE\n",
      "/home/home/Desktop/DS504/data/CRSS/COMBINEDCRSS/CEVENT\n",
      "/home/home/Desktop/DS504/data/CRSS/COMBINEDCRSS/DISTRACT\n",
      "/home/home/Desktop/DS504/data/CRSS/COMBINEDCRSS/PER_AUX\n",
      "/home/home/Desktop/DS504/data/CRSS/COMBINEDCRSS/PBTYPE\n",
      "/home/home/Desktop/DS504/data/CRSS/COMBINEDCRSS/MANEUVER\n",
      "/home/home/Desktop/DS504/data/CRSS/COMBINEDCRSS/ACC_AUX\n",
      "/home/home/Desktop/DS504/data/CRSS/COMBINEDCRSS/DAMAGE\n",
      "/home/home/Desktop/DS504/data/CRSS/COMBINEDCRSS/ACCIDENT\n",
      "/home/home/Desktop/DS504/data/CRSS/COMBINEDCRSS/NMPRIOR\n",
      "/home/home/Desktop/DS504/data/CRSS/COMBINEDCRSS/VEVENT\n",
      "/home/home/Desktop/DS504/data/CRSS/COMBINEDCRSS/NMIMPAIR\n",
      "success\n"
     ]
    }
   ],
   "source": [
    "# This will create a folder for each filename in the combined dir\n",
    "\n",
    "src=\"/home/home/Desktop/DS504/data/backup/CRSS/CRSS2016CSV/\"\n",
    "\n",
    "dir=\"/home/home/Desktop/DS504/data/CRSS/COMBINEDCRSS/\"\n",
    "os.chdir(src)\n",
    "for file in glob.glob(\"*.CSV\"):\n",
    "    dst=dir+file.replace(\" \",\"_\").replace(\".CSV\",\"\")\n",
    "    os.mkdir(dst)\n",
    "    print(dst)\n",
    "print(\"success\")\n"
   ]
  },
  {
   "cell_type": "code",
   "execution_count": 8,
   "metadata": {},
   "outputs": [
    {
     "name": "stdout",
     "output_type": "stream",
     "text": [
      "success\n"
     ]
    }
   ],
   "source": [
    "# The files all need to be in the same directory.  So, start by renaming them so there's no conflict\n",
    "# Also: The CRSS has mixed case data.... it's reeking havoc.  Start by making everything upper case\n",
    "\n",
    "# Do for all dirs/years\n",
    "\n",
    "year = 2016\n",
    "for i in range(3):\n",
    "    dir = '/home/home/Desktop/DS504/data/CRSS/CRSS'+str(year)+'CSV/'\n",
    "    for count, filename in enumerate(os.listdir(dir)):\n",
    "        #print (count)\n",
    "        #print(filename)\n",
    "        dst = str(year)+\"__\" + filename\n",
    "        dst = dst.upper()  \n",
    "        src = dir + filename\n",
    "        dst = dir + dst\n",
    "        os.rename(src, dst)\n",
    "    year = year + 1\n",
    "\n",
    "print(\"success\")\n"
   ]
  },
  {
   "cell_type": "code",
   "execution_count": 12,
   "metadata": {
    "scrolled": true
   },
   "outputs": [
    {
     "name": "stdout",
     "output_type": "stream",
     "text": [
      "2016__VSOE.CSV\n",
      "2016__NMCRASH.CSV\n",
      "2016__ACC_AUX.CSV\n",
      "2016__DAMAGE.CSV\n",
      "2016__ACCIDENT.CSV\n",
      "2016__VIOLATN.CSV\n",
      "2016__SAFETYEQ.CSV\n",
      "2016__PBTYPE.CSV\n",
      "2016__NMIMPAIR.CSV\n",
      "2016__VISION.CSV\n",
      "2016__FACTOR.CSV\n",
      "2016__PER_AUX.CSV\n",
      "2016__VEH_AUX.CSV\n",
      "2016__NMPRIOR.CSV\n",
      "2016__VEHICLE.CSV\n",
      "2016__PERSON.CSV\n",
      "2016__DISTRACT.CSV\n",
      "2016__VEVENT.CSV\n",
      "2016__VINDECODE.CSV\n",
      "2016__MANEUVER.CSV\n",
      "2016__PARKWORK.CSV\n",
      "2016__DRIMPAIR.CSV\n",
      "2016__CEVENT.CSV\n",
      "2017__DISTRACT.CSV\n",
      "2017__FACTOR.CSV\n",
      "2017__ACCIDENT.CSV\n",
      "2017__PARKWORK.CSV\n",
      "2017__NMCRASH.CSV\n",
      "2017__DRIMPAIR.CSV\n",
      "2017__MANEUVER.CSV\n",
      "2017__NMIMPAIR.CSV\n",
      "2017__SAFETYEQ.CSV\n",
      "2017__VINDECODE.CSV\n",
      "2017__VISION.CSV\n",
      "2017__VEVENT.CSV\n",
      "2017__VEHICLE.CSV\n",
      "2017__VIOLATN.CSV\n",
      "2017__PERSON.CSV\n",
      "2017__PER_AUX.CSV\n",
      "2017__PBTYPE.CSV\n",
      "2017__VEH_AUX.CSV\n",
      "2017__DAMAGE.CSV\n",
      "2017__NMPRIOR.CSV\n",
      "2017__CEVENT.CSV\n",
      "2017__ACC_AUX.CSV\n",
      "2017__VSOE.CSV\n",
      "2018__PARKWORK.CSV\n",
      "2018__PERSON.CSV\n",
      "2018__VEH_AUX.CSV\n",
      "2018__ACC_AUX.CSV\n",
      "2018__NMPRIOR.CSV\n",
      "2018__DRIMPAIR.CSV\n",
      "2018__CEVENT.CSV\n",
      "2018__FACTOR.CSV\n",
      "2018__VIOLATN.CSV\n",
      "2018__ACCIDENT.CSV\n",
      "2018__MANEUVER.CSV\n",
      "2018__VSOE.CSV\n",
      "2018__VEVENT.CSV\n",
      "2018__VISION.CSV\n",
      "2018__DAMAGE.CSV\n",
      "2018__DISTRACT.CSV\n",
      "2018__SAFETYEQ.CSV\n",
      "2018__PBTYPE.CSV\n",
      "2018__NMIMPAIR.CSV\n",
      "2018__PER_AUX.CSV\n",
      "2018__VEHICLE.CSV\n",
      "2018__NMCRASH.CSV\n"
     ]
    }
   ],
   "source": [
    "# Now we need to move or copy them all to the combined folder of the same name...\n",
    "    \n",
    "year2 = 2016\n",
    "for j in range(3):\n",
    "    dir = '/home/home/Desktop/DS504/data/CRSS/CRSS'+str(year2)+'CSV/'\n",
    "    os.chdir(dir)\n",
    "    for file in glob.glob(\"*.*\"):\n",
    "        print(file)\n",
    "        dstdir = '/home/home/Desktop/DS504/data/CRSS/COMBINEDCRSS/'\n",
    "        dstfolder = file.replace(str(year2)+\"__\",\"\").replace(\".CSV\",\"\")\n",
    "        dst = dstdir+dstfolder\n",
    "        shutil.copy(file,dst)\n",
    "    year2 = year2 + 1"
   ]
  },
  {
   "cell_type": "code",
   "execution_count": null,
   "metadata": {},
   "outputs": [],
   "source": []
  }
 ],
 "metadata": {
  "kernelspec": {
   "display_name": "my_venv",
   "language": "python",
   "name": "my_venv"
  },
  "language_info": {
   "codemirror_mode": {
    "name": "ipython",
    "version": 3
   },
   "file_extension": ".py",
   "mimetype": "text/x-python",
   "name": "python",
   "nbconvert_exporter": "python",
   "pygments_lexer": "ipython3",
   "version": "3.6.9"
  }
 },
 "nbformat": 4,
 "nbformat_minor": 4
}
